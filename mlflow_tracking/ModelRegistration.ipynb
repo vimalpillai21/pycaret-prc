{
 "cells": [
  {
   "cell_type": "code",
   "execution_count": 1,
   "id": "2cc74c6d-34c7-4f0f-b1b5-765c3dc009a1",
   "metadata": {},
   "outputs": [],
   "source": [
    "import os\n",
    "import warnings\n",
    "import sys"
   ]
  },
  {
   "cell_type": "code",
   "execution_count": 2,
   "id": "78490c75-90aa-49ab-9bac-5857821d493f",
   "metadata": {},
   "outputs": [],
   "source": [
    "import pandas as pd\n",
    "import numpy as np\n",
    "from sklearn.metrics import mean_absolute_error, mean_squared_error, r2_score\n",
    "from sklearn.model_selection import train_test_split\n",
    "from sklearn.linear_model import ElasticNet"
   ]
  },
  {
   "cell_type": "code",
   "execution_count": 3,
   "id": "fd738852-cb0e-4784-8681-ccc49b5b8bb4",
   "metadata": {},
   "outputs": [],
   "source": [
    "from urllib.parse import urlparse\n",
    "import mlflow\n",
    "import mlflow.sklearn\n",
    "import logging"
   ]
  },
  {
   "cell_type": "code",
   "execution_count": 4,
   "id": "2bc36dab-6ccc-4a26-98c1-3ae04cdf095a",
   "metadata": {},
   "outputs": [],
   "source": [
    "logging.basicConfig(level=logging.WARN)\n",
    "logger = logging.getLogger(__name__)"
   ]
  },
  {
   "cell_type": "code",
   "execution_count": 5,
   "id": "7a797003-089d-43ac-9383-4dc487307faf",
   "metadata": {},
   "outputs": [],
   "source": [
    "mlflow.set_tracking_uri(\"http://192.168.7.95:8000/\")"
   ]
  },
  {
   "cell_type": "code",
   "execution_count": 6,
   "id": "8499cd33-e462-4495-b6a2-cbdfe2caa530",
   "metadata": {},
   "outputs": [],
   "source": [
    "def eval_metrics(actual, pred):\n",
    "    rmse = np.sqrt(mean_squared_error(actual,pred))\n",
    "    mae = mean_absolute_error(actual, pred)\n",
    "    r2 = r2_score(actual, pred)\n",
    "    return rmse, mae, r2"
   ]
  },
  {
   "cell_type": "code",
   "execution_count": 7,
   "id": "211167b7-840d-47e0-99ff-04ebb0676ee2",
   "metadata": {},
   "outputs": [
    {
     "name": "stdout",
     "output_type": "stream",
     "text": [
      "Elasticnet model (alpha=0.500000, l1_ratio=0.500000):\n",
      " RMSE: 0.7931640229276851\n",
      " MAE: 0.6271946374319586\n",
      " R2: 0.10862644997792614\n",
      "http\n"
     ]
    },
    {
     "name": "stderr",
     "output_type": "stream",
     "text": [
      "Registered model 'ElasticnetWineModel' already exists. Creating a new version of this model...\n",
      "2023/09/01 10:59:31 INFO mlflow.tracking._model_registry.client: Waiting up to 300 seconds for model version to finish creation. Model name: ElasticnetWineModel, version 2\n",
      "Created version '2' of model 'ElasticnetWineModel'.\n"
     ]
    }
   ],
   "source": [
    "if __name__ == \"__main__\":\n",
    "    warnings.filterwarnings(\"ignore\")\n",
    "    np.random.seed(40)\n",
    "\n",
    "    csv_url = (\n",
    "        \"http://archive.ics.uci.edu/ml/machine-learning-databases/wine-quality/winequality-red.csv\"\n",
    "    )\n",
    "\n",
    "    try:\n",
    "        data = pd.read_csv(csv_url,sep=\";\")\n",
    "    except Exception as e:\n",
    "        logger.exception(\"Unable to download training and test CSV, check your internet connection. Error: %s\", e\n",
    "                        )\n",
    "\n",
    "    train, test = train_test_split(data)\n",
    "    train_x = train.drop([\"quality\"], axis=1)\n",
    "    test_x = test.drop([\"quality\"],axis=1)\n",
    "    train_y = train[[\"quality\"]]\n",
    "    test_y = test[[\"quality\"]]\n",
    "\n",
    "    alpha = 0.5\n",
    "    l1_ratio = 0.5\n",
    "\n",
    "    with mlflow.start_run():\n",
    "        lr = ElasticNet(alpha=alpha, l1_ratio=l1_ratio, random_state=42)\n",
    "        lr.fit(train_x,train_y)\n",
    "\n",
    "        predicted_qualities = lr.predict(test_x)\n",
    "\n",
    "        (rmse, mae, r2) = eval_metrics(test_y,predicted_qualities)\n",
    "\n",
    "        print(\"Elasticnet model (alpha=%f, l1_ratio=%f):\" % (alpha, l1_ratio))\n",
    "        print(\" RMSE: %s\" % rmse)\n",
    "        print(\" MAE: %s\" % mae)\n",
    "        print(\" R2: %s\" % r2)\n",
    "\n",
    "        mlflow.log_param(\"alpha\",alpha)\n",
    "        mlflow.log_param(\"l1_ratio\",l1_ratio)\n",
    "        mlflow.log_metric(\"rmse\",rmse)\n",
    "        mlflow.log_metric(\"r2\",r2)\n",
    "        mlflow.log_metric(\"mae\",mae)\n",
    "\n",
    "        tracking_url_type_store = urlparse(mlflow.get_tracking_uri()).scheme\n",
    "        print(tracking_url_type_store)\n",
    "        # exit(0)\n",
    "        input_example = train_x.iloc[[0]]\n",
    "        if tracking_url_type_store != \"file\":\n",
    "            mlflow.sklearn.log_model(lr,\"model\",\n",
    "                     registered_model_name=\"ElasticnetWineModel\") #,input_example=input_example)\n",
    "        else:\n",
    "            mlflow.sklearn.log_model(lr,\"model\")"
   ]
  },
  {
   "cell_type": "code",
   "execution_count": null,
   "id": "349c419c-ed09-4ce3-bae2-eef9d5db46e5",
   "metadata": {},
   "outputs": [],
   "source": []
  },
  {
   "cell_type": "code",
   "execution_count": null,
   "id": "fd6fb052-6e45-4cf1-9b2f-ee7a23389dc7",
   "metadata": {},
   "outputs": [],
   "source": []
  }
 ],
 "metadata": {
  "kernelspec": {
   "display_name": "Python 3 (ipykernel)",
   "language": "python",
   "name": "python3"
  },
  "language_info": {
   "codemirror_mode": {
    "name": "ipython",
    "version": 3
   },
   "file_extension": ".py",
   "mimetype": "text/x-python",
   "name": "python",
   "nbconvert_exporter": "python",
   "pygments_lexer": "ipython3",
   "version": "3.9.17"
  }
 },
 "nbformat": 4,
 "nbformat_minor": 5
}
